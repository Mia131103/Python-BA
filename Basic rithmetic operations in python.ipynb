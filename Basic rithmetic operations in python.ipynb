{
 "cells": [
  {
   "cell_type": "markdown",
   "id": "11bdc246-60e2-486f-b46b-59bb4c3a01e8",
   "metadata": {},
   "source": [
    "### Arithmetic Operations\n",
    "* For raise to power = **\n",
    "* For remainder = %\n",
    "* Addition = +\n",
    "* Subtraction = -\n",
    "* Multiplication = *\n",
    "* Division = /"
   ]
  },
  {
   "cell_type": "markdown",
   "id": "b3942d94-19bb-406e-b614-0527adc20952",
   "metadata": {},
   "source": [
    "### Relational Operators\n",
    "* Greater than >\n",
    "* < Less than\n",
    "* == equal to\n",
    "* != not equal to\n",
    "* Greater than equal to >=\n",
    "* Less than equal to <=\n",
    "* and - all conditions must be true for true\n",
    "* or - even one of the conditions can be true for the statement to be true\n",
    "* not - reverse of statement\n",
    "\n",
    "For logical operations the answer is always in boolean"
   ]
  },
  {
   "cell_type": "code",
   "execution_count": 1,
   "id": "6d3cbf50-8375-438f-b47e-0f9a1c2fd812",
   "metadata": {},
   "outputs": [
    {
     "data": {
      "text/plain": [
       "False"
      ]
     },
     "execution_count": 1,
     "metadata": {},
     "output_type": "execute_result"
    }
   ],
   "source": [
    "5 == 3"
   ]
  },
  {
   "cell_type": "code",
   "execution_count": 2,
   "id": "b72b13f3-d806-4639-8fd3-6ca64cb9d8e5",
   "metadata": {},
   "outputs": [
    {
     "data": {
      "text/plain": [
       "True"
      ]
     },
     "execution_count": 2,
     "metadata": {},
     "output_type": "execute_result"
    }
   ],
   "source": [
    "5 > 3"
   ]
  },
  {
   "cell_type": "code",
   "execution_count": 3,
   "id": "a915e30c-a8b5-44e8-8103-50e251666628",
   "metadata": {},
   "outputs": [
    {
     "data": {
      "text/plain": [
       "True"
      ]
     },
     "execution_count": 3,
     "metadata": {},
     "output_type": "execute_result"
    }
   ],
   "source": [
    "5 != 3"
   ]
  },
  {
   "cell_type": "markdown",
   "id": "b370b4fc-93b6-4f2c-9f57-94a7ca6c155a",
   "metadata": {
    "tags": []
   },
   "source": [
    "Python can compare alphabets on basis of the first alphabet (compares there ascii values)"
   ]
  },
  {
   "cell_type": "code",
   "execution_count": 4,
   "id": "12d39ce7-164c-41c8-967b-b2316e3eb067",
   "metadata": {},
   "outputs": [
    {
     "data": {
      "text/plain": [
       "False"
      ]
     },
     "execution_count": 4,
     "metadata": {},
     "output_type": "execute_result"
    }
   ],
   "source": [
    "'sgfg' > 'ufguh'"
   ]
  },
  {
   "cell_type": "code",
   "execution_count": 5,
   "id": "4a3acea4-30d7-44e0-aa96-e52ebc10e9ed",
   "metadata": {},
   "outputs": [
    {
     "data": {
      "text/plain": [
       "True"
      ]
     },
     "execution_count": 5,
     "metadata": {},
     "output_type": "execute_result"
    }
   ],
   "source": [
    "'ghgh' == 'ghgh'"
   ]
  },
  {
   "cell_type": "code",
   "execution_count": 7,
   "id": "62b5ae28-0cc1-4672-b20d-d01ee7991a7f",
   "metadata": {},
   "outputs": [
    {
     "data": {
      "text/plain": [
       "True"
      ]
     },
     "execution_count": 7,
     "metadata": {},
     "output_type": "execute_result"
    }
   ],
   "source": [
    "'gh' > 'aren'"
   ]
  },
  {
   "cell_type": "code",
   "execution_count": 8,
   "id": "23f6f2b1-4147-4d7c-b27b-a4c714aa50fd",
   "metadata": {},
   "outputs": [
    {
     "data": {
      "text/plain": [
       "False"
      ]
     },
     "execution_count": 8,
     "metadata": {},
     "output_type": "execute_result"
    }
   ],
   "source": [
    "5>3 and 8<3"
   ]
  },
  {
   "cell_type": "code",
   "execution_count": 9,
   "id": "7ec89748-1d90-43e3-946b-6eb1807d0826",
   "metadata": {},
   "outputs": [
    {
     "data": {
      "text/plain": [
       "True"
      ]
     },
     "execution_count": 9,
     "metadata": {},
     "output_type": "execute_result"
    }
   ],
   "source": [
    "5>3 and not(8<3)"
   ]
  },
  {
   "cell_type": "markdown",
   "id": "162d6156-78a6-4e9e-ae4d-5b9767496456",
   "metadata": {},
   "source": [
    "### Conditional statements\n",
    "* If, else, elif (stands for elif)\n",
    "* if and else will only be used once; for multiple conditions, we keep using elif\n",
    "* instead of using 'then', in python we use colon"
   ]
  },
  {
   "cell_type": "code",
   "execution_count": 15,
   "id": "488a9c20-e380-4b4f-ba0e-373ae2902e4b",
   "metadata": {},
   "outputs": [
    {
     "name": "stdin",
     "output_type": "stream",
     "text": [
      "Enter your gmat score 76\n"
     ]
    }
   ],
   "source": [
    "gmat_score = int(input(\"Enter your gmat score\"))\n",
    "if gmat_score > 750:\n",
    "    print(\"You will be admitted to harvard\")"
   ]
  },
  {
   "cell_type": "markdown",
   "id": "f2e68b06-a7ae-4039-8af9-516d3268c87a",
   "metadata": {},
   "source": [
    "### Syntax and semantics\n",
    "* Syntax is the way of writing (keywords/grammar of it)\n",
    "* semantics (meaning conveyed through it)\n",
    "\n",
    "###Syntax of if else\n",
    "* if condition:\n",
    "*      what should be executed if condition is satisfied"
   ]
  },
  {
   "cell_type": "code",
   "execution_count": 37,
   "id": "f8c6d5b2-e2ed-4811-be82-e3a5b2647231",
   "metadata": {},
   "outputs": [
    {
     "name": "stdout",
     "output_type": "stream",
     "text": [
      "I will go to USA\n"
     ]
    }
   ],
   "source": [
    "job = \"yes\" \n",
    "if job == \"yes\":\n",
    "    print(\"I will go to USA\")"
   ]
  },
  {
   "cell_type": "code",
   "execution_count": 28,
   "id": "fe06ea67-483b-4140-b876-f07cc81364d3",
   "metadata": {},
   "outputs": [
    {
     "name": "stdin",
     "output_type": "stream",
     "text": [
      "enter your gpa 3.8\n"
     ]
    },
    {
     "name": "stdout",
     "output_type": "stream",
     "text": [
      "My grade will be A\n"
     ]
    }
   ],
   "source": [
    "gpa = float(input(\"enter your gpa\"))\n",
    "if gpa > 3.5:\n",
    "    print(\"My grade will be A\")"
   ]
  },
  {
   "cell_type": "code",
   "execution_count": 33,
   "id": "9b840b5e-2909-43b2-a01f-739e68225ec7",
   "metadata": {},
   "outputs": [
    {
     "name": "stdin",
     "output_type": "stream",
     "text": [
      "enter your gpa 78\n"
     ]
    },
    {
     "name": "stdout",
     "output_type": "stream",
     "text": [
      "My grade is F\n"
     ]
    }
   ],
   "source": [
    "gpa = float(input(\"enter your gpa\"))\n",
    "if gpa >= 3.5 and gpa <= 3.7:\n",
    "    print(\"My grade will be A-\")\n",
    "else:\n",
    "    print (\"My grade is F\")"
   ]
  },
  {
   "cell_type": "code",
   "execution_count": 38,
   "id": "470918ea-cd96-42d6-bb36-a3ef0720b777",
   "metadata": {},
   "outputs": [
    {
     "name": "stdout",
     "output_type": "stream",
     "text": [
      "I am a US citizen\n"
     ]
    }
   ],
   "source": [
    "US_Nationality = \"yes\"\n",
    "if US_Nationality == \"yes\":\n",
    "    print(\"I am a US citizen\")\n",
    "else:\n",
    "    print(\"I am a Pakistani citizen\")"
   ]
  },
  {
   "cell_type": "markdown",
   "id": "93f8309c-a9be-4297-bffa-831b8bd6321f",
   "metadata": {},
   "source": [
    "Q. \n",
    "* elite class > 1000000\n",
    "* upper class >500000 and <1000000\n",
    "* Upper middle class >100000 and <500000\n",
    "* middle class >50000 and <100000\n",
    "* lower class >"
   ]
  },
  {
   "cell_type": "code",
   "execution_count": 42,
   "id": "ba2a7641-eedf-479e-a5b6-b95015330450",
   "metadata": {},
   "outputs": [
    {
     "name": "stdin",
     "output_type": "stream",
     "text": [
      "enter your income 7000\n"
     ]
    },
    {
     "name": "stdout",
     "output_type": "stream",
     "text": [
      "lower class\n"
     ]
    }
   ],
   "source": [
    "income = int(input(\"enter your income\"))\n",
    "if income >= 1000000:\n",
    "    print(\"elite class\")\n",
    "elif income >=500000 and income <1000000:\n",
    "    print(\"upper class\")\n",
    "elif income >=100000 and income <500000:\n",
    "    print(\"upper middle class\")\n",
    "elif income >=50000 and income <100000:\n",
    "    print(\"middle class\")\n",
    "else:\n",
    "    print(\"lower class\")"
   ]
  },
  {
   "cell_type": "markdown",
   "id": "6a0bb520-c142-4f84-9464-7117de81289c",
   "metadata": {},
   "source": [
    "Q. Assign grades on basis of gpa"
   ]
  },
  {
   "cell_type": "code",
   "execution_count": 46,
   "id": "37a0dd60-be76-4df6-bb67-5e111d75ee62",
   "metadata": {},
   "outputs": [
    {
     "name": "stdin",
     "output_type": "stream",
     "text": [
      "enter gpa: 7.\n"
     ]
    },
    {
     "name": "stdout",
     "output_type": "stream",
     "text": [
      "grade = F\n"
     ]
    }
   ],
   "source": [
    "gpa = float(input(\"enter gpa:\"))\n",
    "if gpa == 4:\n",
    "    print(\"grade = A\")\n",
    "elif gpa >= 3.67 and gpa < 4.0:\n",
    "    print(\"grade = A-\")\n",
    "elif gpa >=3.33 and gpa <3.67:\n",
    "    print(\"grade = B+\")\n",
    "elif gpa >=3 and gpa <3.33:\n",
    "    print(\"grade = B\")\n",
    "elif gpa >=2.7 and gpa <3:\n",
    "    print(\"grade = B-\")\n",
    "elif gpa >=2.3 and gpa <2.7:\n",
    "    print(\"grade = C\")\n",
    "else:\n",
    "    print(\"grade = F\")"
   ]
  },
  {
   "cell_type": "markdown",
   "id": "8fd82d3c-3cc2-407c-8775-1c81cfbd79ce",
   "metadata": {},
   "source": [
    "### Dimensions\n",
    "Dimension is the amount of points you need to access/get to an object. If you want to move from one dimension to the next, you just have to stack them. \n",
    "\n",
    "To make lists, we use square brackets. We use square brackets to call a data value from a list aswell.\n",
    "\n",
    "Lists is a data type.\n",
    "\n",
    "In python numbering starts from 0 always. "
   ]
  },
  {
   "cell_type": "code",
   "execution_count": 57,
   "id": "bcd8ef39-371b-4013-9690-149948ce56d6",
   "metadata": {},
   "outputs": [
    {
     "data": {
      "text/plain": [
       "list"
      ]
     },
     "execution_count": 57,
     "metadata": {},
     "output_type": "execute_result"
    }
   ],
   "source": [
    "grocery = [\"eggs\", \"bread\", \"rice\", \"dahi\", \"meat\"]\n",
    "#            0        1       2        3       4      -> index values of the data in the list\n",
    "type(grocery)"
   ]
  },
  {
   "cell_type": "code",
   "execution_count": 50,
   "id": "768b78cd-5866-4e3e-811b-06104c0801bc",
   "metadata": {},
   "outputs": [
    {
     "data": {
      "text/plain": [
       "'rice'"
      ]
     },
     "execution_count": 50,
     "metadata": {},
     "output_type": "execute_result"
    }
   ],
   "source": [
    "grocery[2]    #accessing one value from the list"
   ]
  },
  {
   "cell_type": "code",
   "execution_count": 52,
   "id": "fda83610-8247-4811-8cb5-16565529c4eb",
   "metadata": {},
   "outputs": [
    {
     "name": "stdout",
     "output_type": "stream",
     "text": [
      "['eggs', 'bread', 'rice', 'dahi', 'meat']\n"
     ]
    }
   ],
   "source": [
    "print (grocery)"
   ]
  },
  {
   "cell_type": "code",
   "execution_count": 63,
   "id": "5accde8c-c04b-47d7-9d2b-f4cc50aaec03",
   "metadata": {},
   "outputs": [
    {
     "name": "stdout",
     "output_type": "stream",
     "text": [
      "['eggs', 'marshmellow', 'sugar', 'candy', 'meat']\n"
     ]
    }
   ],
   "source": [
    "grocery[2] = 'sugar'   #replacing specific values in the list\n",
    "print(grocery)"
   ]
  },
  {
   "cell_type": "markdown",
   "id": "f7d0d26c-b68f-40bc-8453-085a03832536",
   "metadata": {},
   "source": [
    "If we want a few values back to back from the list:\n",
    "list[1:3] - the colon is used as to, and the upper limit is one value more than the one you need, therefore this would read: extract values 1 to 2 from the list"
   ]
  },
  {
   "cell_type": "code",
   "execution_count": 59,
   "id": "65238e2e-eb6a-4549-98e2-210cb0ff3113",
   "metadata": {},
   "outputs": [
    {
     "data": {
      "text/plain": [
       "['bread', 'rice', 'dahi']"
      ]
     },
     "execution_count": 59,
     "metadata": {},
     "output_type": "execute_result"
    }
   ],
   "source": [
    "grocery[1:4]"
   ]
  },
  {
   "cell_type": "code",
   "execution_count": 62,
   "id": "d69ee31b-7fed-4f5e-ac29-10260a184c66",
   "metadata": {},
   "outputs": [
    {
     "name": "stdout",
     "output_type": "stream",
     "text": [
      "['eggs', 'marshmellow', 'cookies', 'candy', 'meat']\n"
     ]
    }
   ],
   "source": [
    "grocery[1:4] = 'marshmellow', 'cookies', 'candy'\n",
    "print(grocery)"
   ]
  },
  {
   "cell_type": "markdown",
   "id": "cc655390-23f2-4373-a2bc-c8e649cb6072",
   "metadata": {},
   "source": [
    "### Practice Questions\n",
    "\n",
    "#### Q.1  Write a program that converts Celsius temperatures to Fahrenheit temperatures.\n",
    "\n",
    "The formula is as follows:\n",
    "\n",
    "F=95C+32 \n",
    "\n",
    "The program should ask the user to enter a temperature in Celsius, then display the temperature converted to Fahrenheit."
   ]
  },
  {
   "cell_type": "code",
   "execution_count": 79,
   "id": "d834c309-5250-4dd5-84d4-4532194c3db9",
   "metadata": {},
   "outputs": [
    {
     "name": "stdin",
     "output_type": "stream",
     "text": [
      "Enter temperature in celsius 56\n"
     ]
    },
    {
     "name": "stdout",
     "output_type": "stream",
     "text": [
      "temperature in fahrenheit:  132.8\n"
     ]
    }
   ],
   "source": [
    "temp_C = float(input(\"Enter temperature in celsius\"))\n",
    "temp_F = ((9/5)*temp_C) + 32\n",
    "print(\"temperature in fahrenheit: \", temp_F)"
   ]
  },
  {
   "cell_type": "markdown",
   "id": "bd0ad3cf-201e-486c-b817-5350ef4e3645",
   "metadata": {},
   "source": [
    "#### Q.2 Write a program that asks the user for a number in the range of 1 through 7. The pro­gram should display the corresponding day of the week, where 1 = Monday, 2 = Tuesday, 3 = Wednesday, 4 = Thursday, 5 = Friday, 6 = Saturday, and 7 = Sunday. The program should display an error message if the user enters a number that is outside the range of 1 through 7."
   ]
  },
  {
   "cell_type": "code",
   "execution_count": 28,
   "id": "ab6ffcfe-23d3-4be0-a699-8a14aa445e34",
   "metadata": {},
   "outputs": [
    {
     "name": "stdin",
     "output_type": "stream",
     "text": [
      "Enter day number 7\n"
     ]
    },
    {
     "name": "stdout",
     "output_type": "stream",
     "text": [
      "Sunday\n"
     ]
    }
   ],
   "source": [
    "Week = [\"Monday\", \"Tuesday\", \"Wednesday\", \"Thursday\", \"Friday\", \"Saturday\", \"Sunday\"]\n",
    "Daynum = int(input(\"Enter day number\"))\n",
    "if Daynum >=1 and Daynum <=7:\n",
    "    print(Week[Daynum - 1])\n",
    "else:\n",
    "    print(\"invalid entry\")"
   ]
  },
  {
   "cell_type": "markdown",
   "id": "f412e359-0fa4-486a-a6d3-7228123d8bcc",
   "metadata": {},
   "source": [
    "#### Q.3 Write a program that asks the user to enter a person’s age. The program should display a message indicating whether the person is an infant, a child, a teenager, or an adult.\n",
    "\n",
    "Following are the guidelines:\n",
    "\n",
    "* If the person is 1 year old or less, he or she is an infant.\n",
    "* If the person is older than 1 year, but younger than 13 years, he or she is a child.\n",
    "* If the person is at least 13 years old, but less than 20 years old, he or she is a teenager.\n",
    "* If the person is at least 20 years old, he or she is an adult."
   ]
  },
  {
   "cell_type": "code",
   "execution_count": 29,
   "id": "891e64dd-9bf8-4a55-a409-7b08e2201248",
   "metadata": {},
   "outputs": [
    {
     "name": "stdin",
     "output_type": "stream",
     "text": [
      "enter your age 78\n"
     ]
    },
    {
     "name": "stdout",
     "output_type": "stream",
     "text": [
      "adult\n"
     ]
    }
   ],
   "source": [
    "Age = int(input(\"enter your age\"))\n",
    "if Age <=1:\n",
    "    print(\"infant\")\n",
    "elif Age <13 and Age >1:\n",
    "    print(\"child\")\n",
    "elif Age <20 and Age >=13:\n",
    "    print(\"teenager\")\n",
    "elif Age >=20:\n",
    "    print(\"adult\")"
   ]
  },
  {
   "cell_type": "markdown",
   "id": "a98bf98f-f007-4037-84cd-eee4a2bf173e",
   "metadata": {},
   "source": [
    "#### Q.4 The colors red, blue, and yellow are known as the primary colors because they cannot be made by mixing other colors. When you mix two primary colors, you get a secondary color, as shown here:\n",
    "\n",
    "* When you mix red and blue, you get purple.\n",
    "* When you mix red and yellow, you get orange.\n",
    "* When you mix blue and yellow, you get green.\n",
    "\n",
    "Design a program that prompts the user to enter the names of two primary colors to mix. If the user enters anything other than “red,” “blue,” or “yellow,” the program should display an error message. Otherwise, the program should display the name of the secondary color that results."
   ]
  },
  {
   "cell_type": "code",
   "execution_count": 27,
   "id": "5a8999f9-4ba4-4b61-abcf-0edc5dc67fe8",
   "metadata": {},
   "outputs": [
    {
     "name": "stdin",
     "output_type": "stream",
     "text": [
      "enter a primary color red\n",
      "enter another primary color blue\n"
     ]
    },
    {
     "name": "stdout",
     "output_type": "stream",
     "text": [
      "the secondary color formed is purple\n"
     ]
    }
   ],
   "source": [
    "usercolor1 = input(\"enter a primary color\")\n",
    "usercolor2 = input(\"enter another primary color\")\n",
    "if usercolor1 == usercolor2:\n",
    "    print(\"choose different colors\")\n",
    "elif usercolor1 == \"red\" and usercolor2 == \"yellow\":\n",
    "    print(\"the secondary color formed is orange\")\n",
    "elif usercolor1 == \"blue\" and usercolor2 == \"yellow\":\n",
    "    print(\"the secondary color formed is green\")\n",
    "elif usercolor1 == \"red\" and usercolor2 == \"blue\":\n",
    "    print(\"the secondary color formed is purple\")\n",
    "else:\n",
    "    print(\"select only from the primary colors\")"
   ]
  },
  {
   "cell_type": "markdown",
   "id": "9df15e27-a8d5-4524-98ec-51c808a59d98",
   "metadata": {},
   "source": [
    "#### Q.5 Serendipity Booksellers has a book club that awards points to its customers based on the number of books purchased each month. The points are awarded as follows:\n",
    "\n",
    "* If a customer purchases 0 books, he or she earns 0 points.\n",
    "* If a customer purchases 2 books, he or she earns 5 points.\n",
    "* If a customer purchases 4 books, he or she earns 15 points.\n",
    "* If a customer purchases 6 books, he or she earns 30 points.\n",
    "* If a customer purchases 8 or more books, he or she earns 60 points.\n",
    "\n",
    "Write a program that asks the user to enter the number of books that he or she has purchased this month, then displays the number of points awarded."
   ]
  },
  {
   "cell_type": "code",
   "execution_count": null,
   "id": "4f1ac98f-ecfc-4a45-8cc8-86c436fdc034",
   "metadata": {},
   "outputs": [],
   "source": []
  }
 ],
 "metadata": {
  "kernelspec": {
   "display_name": "Python 3 (ipykernel)",
   "language": "python",
   "name": "python3"
  },
  "language_info": {
   "codemirror_mode": {
    "name": "ipython",
    "version": 3
   },
   "file_extension": ".py",
   "mimetype": "text/x-python",
   "name": "python",
   "nbconvert_exporter": "python",
   "pygments_lexer": "ipython3",
   "version": "3.11.3"
  }
 },
 "nbformat": 4,
 "nbformat_minor": 5
}
