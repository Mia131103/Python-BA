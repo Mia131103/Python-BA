{
 "cells": [
  {
   "cell_type": "markdown",
   "id": "96209968-6202-47d9-86b1-964284321900",
   "metadata": {
    "tags": []
   },
   "source": [
    "## Basic keywords practice\n",
    "\n",
    "### Print keyword\n",
    "Print is a built in function in python."
   ]
  },
  {
   "cell_type": "code",
   "execution_count": 1,
   "id": "4d79d693-4ee5-4272-9856-e7256ef8cc71",
   "metadata": {},
   "outputs": [
    {
     "name": "stdout",
     "output_type": "stream",
     "text": [
      "name\n"
     ]
    }
   ],
   "source": [
    "print (\"name\")"
   ]
  },
  {
   "cell_type": "code",
   "execution_count": 4,
   "id": "af34a9b3-864b-4911-8cdb-debbbbe8a9b7",
   "metadata": {},
   "outputs": [
    {
     "name": "stdout",
     "output_type": "stream",
     "text": [
      "7\n"
     ]
    }
   ],
   "source": [
    "print (2+5)"
   ]
  },
  {
   "cell_type": "markdown",
   "id": "14fd9982-cedc-4b38-9b74-47c4cd6e4b2d",
   "metadata": {},
   "source": [
    "In Python there is no distinction between '' and \"\" - in one statement one pair can be used only once"
   ]
  },
  {
   "cell_type": "code",
   "execution_count": 6,
   "id": "1cf6b3ef-72bd-4328-a3c5-c9db7fb1ed58",
   "metadata": {},
   "outputs": [
    {
     "name": "stdout",
     "output_type": "stream",
     "text": [
      "my name is \"Ali\" and I live in \"Lahore\"\n"
     ]
    }
   ],
   "source": [
    "print ('my name is \"Ali\" and I live in \"Lahore\"')"
   ]
  },
  {
   "cell_type": "markdown",
   "id": "2d058a0a-9a18-4b5f-ad22-ba5ad02ba19f",
   "metadata": {},
   "source": [
    "Can use arithmetics to adjust output:"
   ]
  },
  {
   "cell_type": "markdown",
   "id": "f0634cb6-41e9-42b7-b170-a8ba439da7ad",
   "metadata": {},
   "source": [
    "print(3 * \"Ali \")"
   ]
  },
  {
   "cell_type": "markdown",
   "id": "ad5dc576-852c-4cbe-ab4f-c20c6d004578",
   "metadata": {},
   "source": [
    "### Variables\n",
    "There can be no space in the variable name"
   ]
  },
  {
   "cell_type": "code",
   "execution_count": 36,
   "id": "3bbaa427-3ae3-4991-86f4-cb00ca782297",
   "metadata": {},
   "outputs": [],
   "source": [
    "#variable declaration\n",
    "a = 5\n",
    "b = 10\n",
    "Name = \"Mia\""
   ]
  },
  {
   "cell_type": "code",
   "execution_count": 37,
   "id": "d8789581-db71-4125-9e33-fdf81648eff9",
   "metadata": {},
   "outputs": [
    {
     "name": "stdout",
     "output_type": "stream",
     "text": [
      "5 10 Mia\n",
      "15\n",
      "my name is: Mia\n"
     ]
    }
   ],
   "source": [
    "print (a, b, Name)\n",
    "print (a+b)\n",
    "print (\"my name is:\", Name)"
   ]
  },
  {
   "cell_type": "markdown",
   "id": "583a46a0-0c04-44ce-b374-d44f8d01f5fe",
   "metadata": {},
   "source": [
    "Can simply write the name of the variable and press run to get its value"
   ]
  },
  {
   "cell_type": "code",
   "execution_count": 44,
   "id": "a04d5c69-d129-49c1-a100-51ee454210d8",
   "metadata": {},
   "outputs": [
    {
     "data": {
      "text/plain": [
       "5"
      ]
     },
     "execution_count": 44,
     "metadata": {},
     "output_type": "execute_result"
    }
   ],
   "source": [
    "a"
   ]
  },
  {
   "cell_type": "markdown",
   "id": "bfba7144-4ea2-4eeb-966f-2c36855c63b4",
   "metadata": {},
   "source": [
    "### Data Types\n",
    "The type of data that computer/python understands\n",
    "There are 4 types of data in python:\n",
    "* int\n",
    "* float (decimals)\n",
    "* str (text) must be written with \"\"\n",
    "* bool (1|0)\n",
    "\n",
    "The function type() outputs the type of data given to it"
   ]
  },
  {
   "cell_type": "code",
   "execution_count": 26,
   "id": "3da686f3-e04a-48a9-a30d-a3fd397f9ee2",
   "metadata": {},
   "outputs": [
    {
     "data": {
      "text/plain": [
       "int"
      ]
     },
     "execution_count": 26,
     "metadata": {},
     "output_type": "execute_result"
    }
   ],
   "source": [
    "type(3)"
   ]
  },
  {
   "cell_type": "code",
   "execution_count": 27,
   "id": "10eece92-0e19-41a1-b1d3-5f09123d851b",
   "metadata": {},
   "outputs": [
    {
     "data": {
      "text/plain": [
       "float"
      ]
     },
     "execution_count": 27,
     "metadata": {},
     "output_type": "execute_result"
    }
   ],
   "source": [
    "type(45.65)"
   ]
  },
  {
   "cell_type": "code",
   "execution_count": 29,
   "id": "4ae9376e-aff2-414d-9cac-c584a27282d9",
   "metadata": {},
   "outputs": [
    {
     "data": {
      "text/plain": [
       "str"
      ]
     },
     "execution_count": 29,
     "metadata": {},
     "output_type": "execute_result"
    }
   ],
   "source": [
    "type(\"sara\")"
   ]
  },
  {
   "cell_type": "code",
   "execution_count": 33,
   "id": "5717d867-b80f-47e8-9edd-162ceca0c3cb",
   "metadata": {},
   "outputs": [
    {
     "data": {
      "text/plain": [
       "bool"
      ]
     },
     "execution_count": 33,
     "metadata": {},
     "output_type": "execute_result"
    }
   ],
   "source": [
    "type(True)"
   ]
  },
  {
   "cell_type": "markdown",
   "id": "85982e81-ff70-415a-bc9e-9f1877964556",
   "metadata": {},
   "source": [
    "### Taking Input\n",
    "By default input is always in str. We have to convert it to other data types to do arithmetic or other procedures"
   ]
  },
  {
   "cell_type": "code",
   "execution_count": 38,
   "id": "db2636ed-b0d1-457b-872c-cb81097894ae",
   "metadata": {},
   "outputs": [
    {
     "name": "stdin",
     "output_type": "stream",
     "text": [
      "please enter your name:  Samiha\n"
     ]
    },
    {
     "data": {
      "text/plain": [
       "'Samiha'"
      ]
     },
     "execution_count": 38,
     "metadata": {},
     "output_type": "execute_result"
    }
   ],
   "source": [
    "input (\"please enter your name: \")"
   ]
  },
  {
   "cell_type": "code",
   "execution_count": 39,
   "id": "bd7c2c79-1704-4129-ae12-08e03a10c720",
   "metadata": {},
   "outputs": [
    {
     "name": "stdin",
     "output_type": "stream",
     "text": [
      "input a number between 1 and 100 90\n"
     ]
    },
    {
     "data": {
      "text/plain": [
       "'90'"
      ]
     },
     "execution_count": 39,
     "metadata": {},
     "output_type": "execute_result"
    }
   ],
   "source": [
    "input (\"input a number between 1 and 100\")"
   ]
  },
  {
   "cell_type": "code",
   "execution_count": 40,
   "id": "1b6258d9-502d-4dd5-ae93-7dca0966c8ba",
   "metadata": {},
   "outputs": [
    {
     "name": "stdin",
     "output_type": "stream",
     "text": [
      "please enter you cgpa 3.4\n"
     ]
    }
   ],
   "source": [
    "cgpa = input(\"please enter you cgpa\")"
   ]
  },
  {
   "cell_type": "code",
   "execution_count": 41,
   "id": "ade103b8-af26-4e9a-bb42-75a18174c3d0",
   "metadata": {},
   "outputs": [
    {
     "name": "stdout",
     "output_type": "stream",
     "text": [
      "3.4\n"
     ]
    }
   ],
   "source": [
    "print(cgpa)"
   ]
  },
  {
   "cell_type": "markdown",
   "id": "e9c3fa21-6deb-4d42-bb85-cddecdbf9244",
   "metadata": {},
   "source": [
    "### Q1. Make an application form for students collecting there full name, address, marks in olevels/matric"
   ]
  },
  {
   "cell_type": "code",
   "execution_count": 43,
   "id": "8e54f3af-e6fd-4c3e-80c0-bb4240626931",
   "metadata": {},
   "outputs": [
    {
     "name": "stdin",
     "output_type": "stream",
     "text": [
      "Please enter your full name:  Samiha Hamid\n",
      "Please enter your home address:  1066, umer block, bahria town lahore\n",
      "Please enter your olevels grades or matric scores:  7 A*s and 2 As\n"
     ]
    }
   ],
   "source": [
    "Fullname = input(\"Please enter your full name: \")\n",
    "Adress = input(\"Please enter your home address: \")\n",
    "Marks = input(\"Please enter your olevels grades or matric scores: \")"
   ]
  },
  {
   "cell_type": "markdown",
   "id": "c04bc6d7-f2fc-406e-8213-fae78821b9ed",
   "metadata": {},
   "source": [
    "### Data type conversion\n",
    "Write any data type with () and it will convert the data type of the data in the bracket\n",
    "e.g int() will turn anything in bracket into int\n",
    "Can happen with everything accept boolean"
   ]
  },
  {
   "cell_type": "code",
   "execution_count": 45,
   "id": "5b0d7813-0e26-49ff-9e66-6a39a74f90e8",
   "metadata": {},
   "outputs": [
    {
     "data": {
      "text/plain": [
       "6"
      ]
     },
     "execution_count": 45,
     "metadata": {},
     "output_type": "execute_result"
    }
   ],
   "source": [
    "int(6.7)"
   ]
  },
  {
   "cell_type": "code",
   "execution_count": 46,
   "id": "28dd04e9-f2cd-437d-b212-084ab75e6a1b",
   "metadata": {},
   "outputs": [
    {
     "data": {
      "text/plain": [
       "56"
      ]
     },
     "execution_count": 46,
     "metadata": {},
     "output_type": "execute_result"
    }
   ],
   "source": [
    "int(\"56\")"
   ]
  },
  {
   "cell_type": "code",
   "execution_count": 48,
   "id": "3e627dc2-67ac-4773-a518-2a352833ef09",
   "metadata": {},
   "outputs": [
    {
     "data": {
      "text/plain": [
       "7.0"
      ]
     },
     "execution_count": 48,
     "metadata": {},
     "output_type": "execute_result"
    }
   ],
   "source": [
    "float(7)"
   ]
  },
  {
   "cell_type": "code",
   "execution_count": 49,
   "id": "1a2b134b-4aee-4b0a-879f-5779a74f7ff6",
   "metadata": {},
   "outputs": [
    {
     "data": {
      "text/plain": [
       "'79362075'"
      ]
     },
     "execution_count": 49,
     "metadata": {},
     "output_type": "execute_result"
    }
   ],
   "source": [
    "str(79362075)"
   ]
  },
  {
   "cell_type": "markdown",
   "id": "b08a601d-94b5-4458-b189-91aeb0d82e90",
   "metadata": {},
   "source": [
    "### Q2. Take two inputs from the user, distance and time, and then calculate and output speed"
   ]
  },
  {
   "cell_type": "code",
   "execution_count": 52,
   "id": "764917fa-9669-4cc9-aa5a-1b8fa4261f50",
   "metadata": {},
   "outputs": [
    {
     "name": "stdin",
     "output_type": "stream",
     "text": [
      "Please enter the distance covered in kms:  76\n",
      "Please enter the time taken in hours:  2.3\n"
     ]
    },
    {
     "name": "stdout",
     "output_type": "stream",
     "text": [
      "Speed =  33.04347826086957\n"
     ]
    }
   ],
   "source": [
    "distance = float(input(\"Please enter the distance covered in kms: \"))\n",
    "time = float(input(\"Please enter the time taken in hours: \"))\n",
    "print(\"Speed = \", distance/time)"
   ]
  },
  {
   "cell_type": "markdown",
   "id": "95e190e5-f1e4-4b27-b787-cbf61e15dffc",
   "metadata": {},
   "source": [
    "### Q3. Print the sum of any three numbers"
   ]
  },
  {
   "cell_type": "code",
   "execution_count": 53,
   "id": "2a56513d-fd0a-43af-8cd0-7160f2cced33",
   "metadata": {},
   "outputs": [
    {
     "name": "stdin",
     "output_type": "stream",
     "text": [
      "Enter first number:  3\n",
      "Enter second number:  4\n",
      "Enter third number:  5\n"
     ]
    },
    {
     "name": "stdout",
     "output_type": "stream",
     "text": [
      "Sum of all three numbers =  12.0\n"
     ]
    }
   ],
   "source": [
    "a = float(input(\"Enter first number: \"))\n",
    "b = float(input(\"Enter second number: \"))\n",
    "c = float(input(\"Enter third number: \"))\n",
    "print(\"Sum of all three numbers = \", a+b+c) "
   ]
  },
  {
   "cell_type": "markdown",
   "id": "1698a592-fe19-4080-a586-212bc947beba",
   "metadata": {},
   "source": [
    "### Q4. A company has determined that its annual profit is typically 23 percent of total sales. Write a program that asks the user to enter the projected amount of total sales, then displays the profit that will be made from that amount."
   ]
  },
  {
   "cell_type": "code",
   "execution_count": 55,
   "id": "70545d07-fbba-4889-a1e4-ffad1d3c6f22",
   "metadata": {},
   "outputs": [
    {
     "name": "stdin",
     "output_type": "stream",
     "text": [
      "Please enter the projected amount of total sales:  100\n"
     ]
    },
    {
     "name": "stdout",
     "output_type": "stream",
     "text": [
      "Profit:  23.0\n"
     ]
    }
   ],
   "source": [
    "Project_sales = float(input(\"Please enter the projected amount of total sales: \"))\n",
    "print(\"Profit: \", (23/100)*Project_sales)"
   ]
  },
  {
   "cell_type": "code",
   "execution_count": null,
   "id": "7367ddea-7e3e-4138-bbec-66b47f947dd4",
   "metadata": {},
   "outputs": [],
   "source": []
  }
 ],
 "metadata": {
  "kernelspec": {
   "display_name": "Python 3 (ipykernel)",
   "language": "python",
   "name": "python3"
  },
  "language_info": {
   "codemirror_mode": {
    "name": "ipython",
    "version": 3
   },
   "file_extension": ".py",
   "mimetype": "text/x-python",
   "name": "python",
   "nbconvert_exporter": "python",
   "pygments_lexer": "ipython3",
   "version": "3.11.3"
  }
 },
 "nbformat": 4,
 "nbformat_minor": 5
}
